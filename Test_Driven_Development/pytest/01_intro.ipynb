{
 "cells": [
  {
   "cell_type": "markdown",
   "metadata": {},
   "source": [
    "# Introduction\n",
    "Why testing?"
   ]
  },
  {
   "cell_type": "code",
   "execution_count": null,
   "metadata": {},
   "outputs": [],
   "source": [
    "# calculator.py\n",
    "\n",
    "def add(a, b):\n",
    "    return a - b  # Oops! A simple mistake!"
   ]
  },
  {
   "cell_type": "markdown",
   "metadata": {},
   "source": [
    "Now, you use this function in several parts of your application. Without testing, this simple mistake could lead to various unexpected behaviors and, in a real-world scenario, even financial or data loss."
   ]
  },
  {
   "cell_type": "code",
   "execution_count": null,
   "metadata": {},
   "outputs": [],
   "source": [
    "# test_calculator.py\n",
    "\n",
    "def test_add():\n",
    "    assert add(2, 3) == 5"
   ]
  },
  {
   "cell_type": "markdown",
   "metadata": {},
   "source": [
    "- Simple to Start: Write tests using Python's standard assert statement.\n",
    "- Readable Output: Detailed introspection on assertion failures.\n",
    "- Powerful Features: From fixtures to parameterized testing, pytest offers powerful features out of the box.\n",
    "- Extensible: With a vast ecosystem of plugins, you can extend pytest as per your unique requirements."
   ]
  },
  {
   "cell_type": "markdown",
   "metadata": {},
   "source": [
    "## Introduction: Data Processing and Testing"
   ]
  },
  {
   "cell_type": "code",
   "execution_count": null,
   "metadata": {},
   "outputs": [],
   "source": [
    "users_data = [\n",
    "    {\"name\": \"Alice\", \"age\": 25, \"region\": \"North\"},\n",
    "    {\"name\": \"Bob\", \"age\": 32, \"region\": \"South\"},\n",
    "    {\"name\": \"Charlie\", \"age\": 29, \"region\": \"North\"},\n",
    "    {\"name\": \"David\", \"age\": 42, \"region\": \"East\"},\n",
    "    {\"name\": \"Eve\", \"age\": 23, \"region\": \"North\"}\n",
    "]\n"
   ]
  },
  {
   "cell_type": "code",
   "execution_count": null,
   "metadata": {},
   "outputs": [],
   "source": [
    "def avg_age_from_region(data, region):\n",
    "    total_age = 0\n",
    "    count = 0\n",
    "    for user in data:\n",
    "        if user[\"region\"] == region:\n",
    "            total_age += user[\"age\"]\n",
    "        count += 1\n",
    "    return total_age / count"
   ]
  },
  {
   "cell_type": "markdown",
   "metadata": {},
   "source": [
    "The count is increased for every user, not just the users from the desired region."
   ]
  },
  {
   "cell_type": "code",
   "execution_count": null,
   "metadata": {},
   "outputs": [],
   "source": [
    "def test_avg_age_from_region():\n",
    "    result = avg_age_from_region(users_data, \"North\")\n",
    "    # The correct average age for \"North\" is (25 + 29 + 23) / 3 = 25.67\n",
    "    assert result == 25.67\n"
   ]
  },
  {
   "cell_type": "markdown",
   "metadata": {},
   "source": [
    "- Catch Bugs Early: Before they reach production or cause further complications.\n",
    "- Clarify Intent: Tests can serve as documentation, showing what a function or method is supposed to do.\n",
    "- Refactor with Confidence: As your application grows, you might want to optimize or modify parts of your code. Tests ensure that you don't break existing functionality."
   ]
  }
 ],
 "metadata": {
  "language_info": {
   "name": "python"
  },
  "orig_nbformat": 4
 },
 "nbformat": 4,
 "nbformat_minor": 2
}

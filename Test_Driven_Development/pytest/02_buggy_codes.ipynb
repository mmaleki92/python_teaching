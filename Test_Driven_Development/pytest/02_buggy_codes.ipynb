{
 "cells": [
  {
   "cell_type": "markdown",
   "metadata": {},
   "source": [
    "capitalize the first and last letter of a string:"
   ]
  },
  {
   "cell_type": "code",
   "execution_count": null,
   "metadata": {},
   "outputs": [],
   "source": [
    "def capitalize_ends(s):\n",
    "    return s[0].upper() + s[1:-1] + s[-1].upper()"
   ]
  },
  {
   "cell_type": "markdown",
   "metadata": {},
   "source": [
    "The Bug\n",
    "\n",
    "What if the input string is just a single character or is empty? The function will throw an IndexError."
   ]
  },
  {
   "cell_type": "code",
   "execution_count": null,
   "metadata": {},
   "outputs": [],
   "source": [
    "def test_capitalize_ends():\n",
    "    assert capitalize_ends(\"hello\") == \"HellO\"\n",
    "    assert capitalize_ends(\"a\") == \"A\"  # This will raise an IndexError\n",
    "    assert capitalize_ends(\"\") == \"\"    # This will raise an IndexError"
   ]
  },
  {
   "cell_type": "markdown",
   "metadata": {},
   "source": [
    "2. List Manipulation Bug"
   ]
  },
  {
   "cell_type": "markdown",
   "metadata": {},
   "source": [
    "The Function\n",
    "\n",
    "Imagine we have a function that's supposed to return a new list with every other element from the original list:"
   ]
  },
  {
   "cell_type": "code",
   "execution_count": null,
   "metadata": {},
   "outputs": [],
   "source": [
    "def every_other_element(lst):\n",
    "    return lst[::2]"
   ]
  },
  {
   "cell_type": "markdown",
   "metadata": {},
   "source": [
    "The Bug\n",
    "\n",
    "The function itself doesn't have a bug, but there's a subtle bug if this function is used with a mutable default argument, a common pitfall in Python:"
   ]
  },
  {
   "cell_type": "code",
   "execution_count": null,
   "metadata": {},
   "outputs": [],
   "source": [
    "def buggy_function(lst=[]):\n",
    "    lst = every_other_element(lst)\n",
    "    return lst\n"
   ]
  },
  {
   "cell_type": "markdown",
   "metadata": {},
   "source": [
    "The problem here is that when buggy_function is called without arguments, it uses the same default list object. Any modifications to this list persist across function calls."
   ]
  },
  {
   "cell_type": "code",
   "execution_count": null,
   "metadata": {},
   "outputs": [],
   "source": [
    "def test_buggy_function():\n",
    "    assert buggy_function([1, 2, 3, 4, 5]) == [1, 3, 5]\n",
    "    assert buggy_function() == []  # This will work the first time\n",
    "    assert buggy_function() == []  # This will fail because the default list was modified in the previous call\n"
   ]
  },
  {
   "cell_type": "markdown",
   "metadata": {},
   "source": [
    "3. Floating Point Precision Bug\n",
    "The Function\n",
    "\n",
    "A function that divides two numbers:"
   ]
  },
  {
   "cell_type": "code",
   "execution_count": null,
   "metadata": {},
   "outputs": [],
   "source": [
    "def divide(a, b):\n",
    "    return a / b"
   ]
  },
  {
   "cell_type": "code",
   "execution_count": null,
   "metadata": {},
   "outputs": [],
   "source": [
    "def test_divide():\n",
    "    assert divide(1, 3) * 3 == 1  # This might fail due to floating"
   ]
  }
 ],
 "metadata": {
  "kernelspec": {
   "display_name": "base",
   "language": "python",
   "name": "python3"
  },
  "language_info": {
   "name": "python",
   "version": "3.10.8"
  },
  "orig_nbformat": 4
 },
 "nbformat": 4,
 "nbformat_minor": 2
}
